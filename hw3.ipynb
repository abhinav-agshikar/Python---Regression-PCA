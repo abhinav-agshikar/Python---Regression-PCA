{
 "cells": [
  {
   "cell_type": "code",
   "execution_count": 1,
   "metadata": {
    "collapsed": false
   },
   "outputs": [
    {
     "name": "stdout",
     "output_type": "stream",
     "text": [
      "Populating the interactive namespace from numpy and matplotlib\n"
     ]
    }
   ],
   "source": [
    "%pylab inline\n",
    "%matplotlib inline\n"
   ]
  },
  {
   "cell_type": "code",
   "execution_count": 165,
   "metadata": {
    "collapsed": false
   },
   "outputs": [],
   "source": [
    "import numpy as np \n",
    "import pandas as pd\n",
    "import scipy.stats as ss\n",
    "import matplotlib.pyplot as plt\n",
    "from scipy.stats import norm\n",
    "\n",
    "import math\n",
    "from ctypes import *\n",
    "import sys\n",
    "import string"
   ]
  },
  {
   "cell_type": "code",
   "execution_count": 166,
   "metadata": {
    "collapsed": false
   },
   "outputs": [
    {
     "data": {
      "text/plain": [
       "3191"
      ]
     },
     "execution_count": 166,
     "metadata": {},
     "output_type": "execute_result"
    }
   ],
   "source": [
    "review_df = pd.read_csv('2015 CHR Analytic Data.csv')\n",
    "len(review_df)"
   ]
  },
  {
   "cell_type": "code",
   "execution_count": 167,
   "metadata": {
    "collapsed": false
   },
   "outputs": [
    {
     "name": "stdout",
     "output_type": "stream",
     "text": [
      "1. TOTAL NUMBER OF COUNTIES:  823\n"
     ]
    }
   ],
   "source": [
    "#Step 1\n",
    "\n",
    "df = review_df # Store in dummy variable\n",
    "df['2011 population estimate Value'] = df[\"2011 population estimate Value\"].str.replace(',','')\n",
    "df['2011 population estimate Value'] = df['2011 population estimate Value'].astype(float)\n",
    "df = df.drop(df[df['2011 population estimate Value'] < 30000].index) # Drop all < 30000\n",
    "#print len(df)\n",
    "\n",
    "#Step 2\n",
    "for column_name, column in df.transpose().iterrows():\n",
    "    if(column_name!='COUNTYCODE' and column_name.find(\"Value\",(len(column_name)-5))==-1):\n",
    "        df = df.drop(column_name, 1)\n",
    "#print len(df)\n",
    "\n",
    "\n",
    "#Step3\n",
    "\n",
    "df= df.dropna()\n",
    "\n",
    "#Delete all total rows\n",
    "\n",
    "df.dropna() #Drop all rows having any Nan\n",
    "df = df.drop(df[df['COUNTYCODE'] == 0].index)\n",
    "print \"1. TOTAL NUMBER OF COUNTIES: \",len(df)\n",
    "\n",
    "\n"
   ]
  },
  {
   "cell_type": "code",
   "execution_count": 205,
   "metadata": {
    "collapsed": false
   },
   "outputs": [
    {
     "name": "stdout",
     "output_type": "stream",
     "text": [
      "2. log_paamv HISTOGRAM: 2histogram.png\n"
     ]
    },
    {
     "data": {
      "image/png": "[encoded data removed]",
      "text/plain": [
       "<matplotlib.figure.Figure at 0x7f872aea5210>"
      ]
     },
     "metadata": {},
     "output_type": "display_data"
    }
   ],
   "source": [
    "df['log_paamv'] = df['Premature age-adjusted mortality Value']\n",
    "\n",
    "df['log_paamv']=np.log(df['log_paamv'])\n",
    "df['log_paamv'].hist(bins=20)\n",
    "print \"2. log_paamv HISTOGRAM: 2histogram.png\""
   ]
  },
  {
   "cell_type": "code",
   "execution_count": 182,
   "metadata": {
    "collapsed": false
   },
   "outputs": [
    {
     "name": "stdout",
     "output_type": "stream",
     "text": [
      "3. Non-regularized Linear Regression MSE:  0.124838899866\n"
     ]
    }
   ],
   "source": [
    "from sklearn import datasets, linear_model\n",
    "\n",
    "#Shuffle Indexes\n",
    "df = df.reindex(np.random.permutation(df.index))\n",
    "#print df.head()\n",
    "\n",
    "REMOVED_COLUMNS = ['COUNTYCODE', 'log_paamv', 'Premature age-adjusted mortality Value','Premature death Value', 'Uninsured adults Value', 'Teen births Value', 'Food insecurity Value', 'Physical inactivity Value', 'Adult smoking Value', 'Injury deaths Value', 'Motor vehicle crash deaths Value', 'Drug poisoning deaths Value', 'Child mortality Value', 'Uninsured Value']\n",
    "lr_df = df.copy()\n",
    "\n",
    "for col_name in REMOVED_COLUMNS:\n",
    "    #print col_name\n",
    "    lr_df = lr_df.drop(col_name, 1)\n",
    "lr_df.head()\n",
    "\n",
    "for c in lr_df.columns:\n",
    "    if not (lr_df[c].dtype == np.float64 or lr_df[c].dtype == np.int64):\n",
    "        lr_df[c] = lr_df[c].apply(lambda val: float(string.replace(str(val),',',''))) ##change to string then floats... \n",
    "        lr_df[c] = lr_df[c].astype('float')\n",
    "\n",
    "\n",
    "#Standardize\n",
    "\n",
    "regr = linear_model.LinearRegression()\n",
    "\n",
    "gMAE = 0.0\n",
    "for j in range(0, 10):\n",
    "    \n",
    "    to_be_skipped_from = int( (j*len(lr_df))/10 )\n",
    "    to_be_skipped = int(len(lr_df)/10)+1\n",
    "    \n",
    "    train_x = lr_df[0:to_be_skipped_from].copy()\n",
    "    train_y = df['log_paamv'][0:to_be_skipped_from].copy()\n",
    "    \n",
    "    train_x = train_x.append(lr_df[to_be_skipped_from+to_be_skipped:len(lr_df)+1].copy())\n",
    "    train_y = train_y.append(df['log_paamv'][to_be_skipped_from+to_be_skipped:len(lr_df)+1].copy())\n",
    "    \n",
    "    test_x = lr_df[to_be_skipped_from:to_be_skipped_from+to_be_skipped].copy()\n",
    "    test_y = df['log_paamv'][to_be_skipped_from:to_be_skipped_from+to_be_skipped].copy()\n",
    "    \n",
    "    for c in train_x.columns:\n",
    "        train_x[c] = (train_x[c] - np.mean(train_x[c]))/np.std(train_x[c])\n",
    "    \n",
    "    train_y = (train_y - np.mean(train_y))/np.std(train_y)\n",
    "        \n",
    "    for c in test_x.columns:\n",
    "        test_x[c] = (test_x[c] - np.mean(test_x[c]))/np.std(test_x[c])\n",
    "        \n",
    "    test_y = (test_y - np.mean(test_y))/np.std(test_y)\n",
    "    \n",
    "    #print 'train_x',0,to_be_skipped_from\n",
    "    #print 'train_x append',to_be_skipped_from+to_be_skipped,len(lr_df)+1\n",
    "    #print 'test_x',to_be_skipped_from,to_be_skipped_from+to_be_skipped\n",
    "    \n",
    "    regr.fit(train_x, train_y)\n",
    "\n",
    "    # The coefficients\n",
    "    #print(\"Residual sum of squares:\",np.mean((regr.predict(test_x) - test_y) ** 2))\n",
    "    gMAE += np.mean((regr.predict(test_x) - test_y) ** 2)\n",
    "\n",
    "gMAE = gMAE/10\n",
    "\n",
    "print \"3. Non-regularized Linear Regression MSE: \", gMAE"
   ]
  },
  {
   "cell_type": "code",
   "execution_count": 203,
   "metadata": {
    "collapsed": false
   },
   "outputs": [
    {
     "name": "stdout",
     "output_type": "stream",
     "text": [
      "4. Percentage variance explained of first three components: [ 0.28090638  0.13937027  0.0792126 ]\n"
     ]
    }
   ],
   "source": [
    "#Part 4\n",
    "\n",
    "from sklearn.decomposition import PCA\n",
    "\n",
    "#Standardize dataset\n",
    "for c in lr_df.columns:\n",
    "    lr_df[c] = (lr_df[c] - np.mean(lr_df[c]))/np.std(lr_df[c])\n",
    "    \n",
    "pca = PCA(n_components=3)\n",
    "pca.fit(lr_df)\n",
    "print \"4. Percentage variance explained of first three components:\", pca.explained_variance_ratio_"
   ]
  },
  {
   "cell_type": "code",
   "execution_count": 199,
   "metadata": {
    "collapsed": false,
    "scrolled": false
   },
   "outputs": [
    {
     "name": "stdout",
     "output_type": "stream",
     "text": [
      "5. a) principal components regression mse:  0.126886957947\n"
     ]
    }
   ],
   "source": [
    "#Part 5 a)\n",
    "#PCA\n",
    "from sklearn import datasets, linear_model\n",
    "\n",
    "#Shuffle Indexes\n",
    "df = df.reindex(np.random.permutation(df.index))\n",
    "#print df.head()\n",
    "\n",
    "lr_df = df.copy()\n",
    "#Standardize\n",
    "\n",
    "for col_name in REMOVED_COLUMNS:\n",
    "    #print col_name\n",
    "    lr_df = lr_df.drop(col_name, 1)\n",
    "lr_df.head()\n",
    "\n",
    "for c in lr_df.columns:\n",
    "    if not (lr_df[c].dtype == np.float64 or lr_df[c].dtype == np.int64):\n",
    "        lr_df[c] = lr_df[c].apply(lambda val: float(string.replace(str(val),',',''))) ##change to string then floats... \n",
    "        lr_df[c] = lr_df[c].astype('float')\n",
    "\n",
    "\n",
    "\n",
    "regr = linear_model.LinearRegression()\n",
    "gMAE = 0.0\n",
    "\n",
    "\n",
    "for j in range(0, 10):\n",
    "    \n",
    "    to_be_skipped_from = int( (j*len(lr_df))/10 )\n",
    "    to_be_skipped = int(2*len(lr_df)/10)+1\n",
    "    \n",
    "    if j < 9:\n",
    "        train_x = lr_df[0:to_be_skipped_from].copy()\n",
    "        train_y = df['log_paamv'][0:to_be_skipped_from].copy()\n",
    "\n",
    "        train_x = train_x.append(lr_df[to_be_skipped_from+to_be_skipped:len(lr_df)+1].copy())\n",
    "        train_y = train_y.append(df['log_paamv'][to_be_skipped_from+to_be_skipped:len(lr_df)+1].copy())\n",
    "\n",
    "        test_x = lr_df[to_be_skipped_from:to_be_skipped_from+to_be_skipped/2].copy()\n",
    "        test_y = df['log_paamv'][to_be_skipped_from:to_be_skipped_from+to_be_skipped/2].copy()\n",
    "\n",
    "        dev_x = lr_df[to_be_skipped_from+to_be_skipped/2:to_be_skipped_from+to_be_skipped].copy()\n",
    "        dev_y = df['log_paamv'][to_be_skipped_from+to_be_skipped/2:to_be_skipped_from+to_be_skipped].copy()\n",
    "\n",
    "    else:\n",
    "        to_be_skipped = int(len(lr_df)/10)+1\n",
    "        train_x = lr_df[to_be_skipped+1:len(lr_df)-to_be_skipped].copy()\n",
    "        train_y = df['log_paamv'][to_be_skipped+1:len(lr_df)-to_be_skipped].copy()\n",
    "\n",
    "        test_x = lr_df[len(lr_df)-to_be_skipped+1:len(lr_df)].copy()\n",
    "        test_y = df['log_paamv'][len(lr_df)-to_be_skipped+1:len(lr_df)].copy()\n",
    "\n",
    "        dev_x = lr_df[0:to_be_skipped].copy()\n",
    "        dev_y = df['log_paamv'][0:to_be_skipped].copy()\n",
    "    \n",
    "    for c in train_x.columns:\n",
    "        train_x[c] = (train_x[c] - np.mean(train_x[c]))/np.std(train_x[c])\n",
    "    \n",
    "    train_y = (train_y - np.mean(train_y))/np.std(train_y)\n",
    "        \n",
    "    for c in test_x.columns:\n",
    "        test_x[c] = (test_x[c] - np.mean(test_x[c]))/np.std(test_x[c])\n",
    "        \n",
    "    test_y = (test_y - np.mean(test_y))/np.std(test_y)\n",
    "    \n",
    "    for c in dev_x.columns:\n",
    "        dev_x[c] = (dev_x[c] - np.mean(dev_x[c]))/np.std(dev_x[c])\n",
    "        \n",
    "    dev_y = (dev_y - np.mean(dev_y))/np.std(dev_y)\n",
    "    \n",
    "    #print 'train_x',0,to_be_skipped_from\n",
    "    #print 'train_x append',to_be_skipped_from+to_be_skipped,len(lr_df)+1\n",
    "    #print 'test_x',to_be_skipped_from,to_be_skipped_from+to_be_skipped\n",
    "    min_error = 10000;\n",
    "    min_comp = 1\n",
    "    for k in range(3,44):\n",
    "        pca = PCA(n_components=k)\n",
    "        pca.fit(train_x)\n",
    "        Z = pca.transform(train_x)\n",
    "        Z =  pd.DataFrame(Z).copy()\n",
    "        dev_min = pca.transform(dev_x)\n",
    "        dev_min =  pd.DataFrame(dev_min).copy()\n",
    "        #print 'Z: ', len(Z),' train_y', len(train_y),' train_x', len(train_x)\n",
    "        #print 'dev_x', len(dev_x),' dev_y', len(dev_y)\n",
    "        regr.fit(Z, train_y)\n",
    "        error = np.mean((regr.predict(dev_min) - dev_y) ** 2)\n",
    "        if error < min_error:\n",
    "            min_comp = k\n",
    "            min_error = error\n",
    "    #print 'iter ',j\n",
    "    #print 'min components', min_comp\n",
    "    pca = PCA(n_components=min_comp)\n",
    "    pca.fit(train_x)\n",
    "    Z = pca.transform(train_x)      \n",
    "    Z =  pd.DataFrame(Z).copy()\n",
    "    test_x = pca.transform(test_x)\n",
    "    test_x =  pd.DataFrame(test_x).copy()\n",
    "    regr.fit(Z, train_y)\n",
    "    gMAE += np.mean((regr.predict(test_x) - test_y) ** 2)\n",
    "\n",
    "gMAE = gMAE/10\n",
    "\n",
    "print \"5. a) principal components regression mse: \", gMAE"
   ]
  },
  {
   "cell_type": "code",
   "execution_count": 201,
   "metadata": {
    "collapsed": false
   },
   "outputs": [
    {
     "name": "stdout",
     "output_type": "stream",
     "text": [
      "5. b) L2 regularized mse:  0.12111448232\n"
     ]
    }
   ],
   "source": [
    "#Part 5 b)\n",
    "#L2 Regularization\n",
    "\n",
    "from sklearn.linear_model import Ridge, Lasso\n",
    "\n",
    "#Shuffle Indexes\n",
    "df = df.reindex(np.random.permutation(df.index))\n",
    "#print df.head()\n",
    "\n",
    "lr_df = df.copy()\n",
    "#Standardize\n",
    "\n",
    "for col_name in REMOVED_COLUMNS:\n",
    "    #print col_name\n",
    "    lr_df = lr_df.drop(col_name, 1)\n",
    "lr_df.head()\n",
    "\n",
    "for c in lr_df.columns:\n",
    "    if not (lr_df[c].dtype == np.float64 or lr_df[c].dtype == np.int64):\n",
    "        lr_df[c] = lr_df[c].apply(lambda val: float(string.replace(str(val),',',''))) ##change to string then floats... \n",
    "        lr_df[c] = lr_df[c].astype('float')\n",
    "\n",
    "gMAE = 0.0\n",
    "\n",
    "\n",
    "for j in range(0, 10):\n",
    "    \n",
    "    to_be_skipped_from = int( (j*len(lr_df))/10 )\n",
    "    to_be_skipped = int(2*len(lr_df)/10)+1\n",
    "    \n",
    "    if j < 9:\n",
    "        train_x = lr_df[0:to_be_skipped_from].copy()\n",
    "        train_y = df['log_paamv'][0:to_be_skipped_from].copy()\n",
    "\n",
    "        train_x = train_x.append(lr_df[to_be_skipped_from+to_be_skipped:len(lr_df)+1].copy())\n",
    "        train_y = train_y.append(df['log_paamv'][to_be_skipped_from+to_be_skipped:len(lr_df)+1].copy())\n",
    "\n",
    "        test_x = lr_df[to_be_skipped_from:to_be_skipped_from+to_be_skipped/2].copy()\n",
    "        test_y = df['log_paamv'][to_be_skipped_from:to_be_skipped_from+to_be_skipped/2].copy()\n",
    "\n",
    "        dev_x = lr_df[to_be_skipped_from+to_be_skipped/2:to_be_skipped_from+to_be_skipped].copy()\n",
    "        dev_y = df['log_paamv'][to_be_skipped_from+to_be_skipped/2:to_be_skipped_from+to_be_skipped].copy()\n",
    "\n",
    "    else:\n",
    "        to_be_skipped = int(len(lr_df)/10)+1\n",
    "        train_x = lr_df[to_be_skipped+1:len(lr_df)-to_be_skipped].copy()\n",
    "        train_y = df['log_paamv'][to_be_skipped+1:len(lr_df)-to_be_skipped].copy()\n",
    "\n",
    "        test_x = lr_df[len(lr_df)-to_be_skipped+1:len(lr_df)].copy()\n",
    "        test_y = df['log_paamv'][len(lr_df)-to_be_skipped+1:len(lr_df)].copy()\n",
    "\n",
    "        dev_x = lr_df[0:to_be_skipped].copy()\n",
    "        dev_y = df['log_paamv'][0:to_be_skipped].copy()\n",
    "    \n",
    "    for c in train_x.columns:\n",
    "        train_x[c] = (train_x[c] - np.mean(train_x[c]))/np.std(train_x[c])\n",
    "    \n",
    "    train_y = (train_y - np.mean(train_y))/np.std(train_y)\n",
    "        \n",
    "    for c in test_x.columns:\n",
    "        test_x[c] = (test_x[c] - np.mean(test_x[c]))/np.std(test_x[c])\n",
    "        \n",
    "    test_y = (test_y - np.mean(test_y))/np.std(test_y)\n",
    "    \n",
    "    for c in dev_x.columns:\n",
    "        dev_x[c] = (dev_x[c] - np.mean(dev_x[c]))/np.std(dev_x[c])\n",
    "        \n",
    "    dev_y = (dev_y - np.mean(dev_y))/np.std(dev_y)\n",
    "    \n",
    "    #print 'train_x',0,to_be_skipped_from\n",
    "    #print 'train_x append',to_be_skipped_from+to_be_skipped,len(lr_df)+1\n",
    "    #print 'test_x',to_be_skipped_from,to_be_skipped_from+to_be_skipped\n",
    "    min_error = 10000;\n",
    "    min_alpha = 1\n",
    "    alphas = [pow(10,-5),pow(10,-4),pow(10,-3),pow(10,-2),pow(10,-1),1,10,100,1000,10000,100000,1000000]\n",
    "    for alpha in alphas:\n",
    "        regr = Ridge(alpha=alpha)\n",
    "        regr.fit(train_x, train_y)\n",
    "        error = np.mean((regr.predict(dev_x) - dev_y) ** 2)\n",
    "        if error < min_error:\n",
    "            min_alpha = alpha\n",
    "            min_error = error\n",
    "    #print 'iter ',j\n",
    "    #print 'min alpha', min_alpha\n",
    "    #print 'min error', min_error\n",
    "    regr = Ridge(alpha=min_alpha)\n",
    "    regr.fit(train_x, train_y)\n",
    "    gMAE += np.mean((regr.predict(test_x) - test_y) ** 2)\n",
    "\n",
    "gMAE = gMAE/10\n",
    "\n",
    "print \"5. b) L2 regularized mse: \", gMAE"
   ]
  },
  {
   "cell_type": "code",
   "execution_count": 202,
   "metadata": {
    "collapsed": false
   },
   "outputs": [
    {
     "name": "stdout",
     "output_type": "stream",
     "text": [
      "5. b) L1 regularized mse:  0.122738420223\n"
     ]
    }
   ],
   "source": [
    "#Part 5 c)\n",
    "#L1 Regularization\n",
    "\n",
    "from sklearn.linear_model import Ridge, Lasso\n",
    "\n",
    "#Shuffle Indexes\n",
    "df = df.reindex(np.random.permutation(df.index))\n",
    "#print df.head()\n",
    "\n",
    "lr_df = df.copy()\n",
    "#Standardize\n",
    "\n",
    "for col_name in REMOVED_COLUMNS:\n",
    "    #print col_name\n",
    "    lr_df = lr_df.drop(col_name, 1)\n",
    "lr_df.head()\n",
    "\n",
    "for c in lr_df.columns:\n",
    "    if not (lr_df[c].dtype == np.float64 or lr_df[c].dtype == np.int64):\n",
    "        lr_df[c] = lr_df[c].apply(lambda val: float(string.replace(str(val),',',''))) ##change to string then floats... \n",
    "        lr_df[c] = lr_df[c].astype('float')\n",
    "\n",
    "\n",
    "gMAE = 0.0\n",
    "\n",
    "\n",
    "for j in range(0, 10):\n",
    "    \n",
    "    to_be_skipped_from = int( (j*len(lr_df))/10 )\n",
    "    to_be_skipped = int(2*len(lr_df)/10)+1\n",
    "    \n",
    "    if j < 9:\n",
    "        train_x = lr_df[0:to_be_skipped_from].copy()\n",
    "        train_y = df['log_paamv'][0:to_be_skipped_from].copy()\n",
    "\n",
    "        train_x = train_x.append(lr_df[to_be_skipped_from+to_be_skipped:len(lr_df)+1].copy())\n",
    "        train_y = train_y.append(df['log_paamv'][to_be_skipped_from+to_be_skipped:len(lr_df)+1].copy())\n",
    "\n",
    "        test_x = lr_df[to_be_skipped_from:to_be_skipped_from+to_be_skipped/2].copy()\n",
    "        test_y = df['log_paamv'][to_be_skipped_from:to_be_skipped_from+to_be_skipped/2].copy()\n",
    "\n",
    "        dev_x = lr_df[to_be_skipped_from+to_be_skipped/2:to_be_skipped_from+to_be_skipped].copy()\n",
    "        dev_y = df['log_paamv'][to_be_skipped_from+to_be_skipped/2:to_be_skipped_from+to_be_skipped].copy()\n",
    "\n",
    "    else:\n",
    "        to_be_skipped = int(len(lr_df)/10)+1\n",
    "        train_x = lr_df[to_be_skipped+1:len(lr_df)-to_be_skipped].copy()\n",
    "        train_y = df['log_paamv'][to_be_skipped+1:len(lr_df)-to_be_skipped].copy()\n",
    "\n",
    "        test_x = lr_df[len(lr_df)-to_be_skipped+1:len(lr_df)].copy()\n",
    "        test_y = df['log_paamv'][len(lr_df)-to_be_skipped+1:len(lr_df)].copy()\n",
    "\n",
    "        dev_x = lr_df[0:to_be_skipped].copy()\n",
    "        dev_y = df['log_paamv'][0:to_be_skipped].copy()\n",
    "    \n",
    "    for c in train_x.columns:\n",
    "        train_x[c] = (train_x[c] - np.mean(train_x[c]))/np.std(train_x[c])\n",
    "    \n",
    "    train_y = (train_y - np.mean(train_y))/np.std(train_y)\n",
    "        \n",
    "    for c in test_x.columns:\n",
    "        test_x[c] = (test_x[c] - np.mean(test_x[c]))/np.std(test_x[c])\n",
    "        \n",
    "    test_y = (test_y - np.mean(test_y))/np.std(test_y)\n",
    "    \n",
    "    for c in dev_x.columns:\n",
    "        dev_x[c] = (dev_x[c] - np.mean(dev_x[c]))/np.std(dev_x[c])\n",
    "        \n",
    "    dev_y = (dev_y - np.mean(dev_y))/np.std(dev_y)\n",
    "    \n",
    "    #print 'train_x',0,to_be_skipped_from\n",
    "    #print 'train_x append',to_be_skipped_from+to_be_skipped,len(lr_df)+1\n",
    "    #print 'test_x',to_be_skipped_from,to_be_skipped_from+to_be_skipped\n",
    "    min_error = 10000;\n",
    "    min_alpha = 1\n",
    "    alphas = [pow(10,-5),pow(10,-4),pow(10,-3),pow(10,-2),pow(10,-1),1,10,100,1000,10000,100000]\n",
    "    for alpha in alphas:\n",
    "        regr = Lasso(alpha=alpha)\n",
    "        regr.fit(train_x, train_y)\n",
    "        error = np.mean((regr.predict(dev_x) - dev_y) ** 2)\n",
    "        if error < min_error:\n",
    "            min_alpha = alpha\n",
    "            min_error = error\n",
    "    #print 'iter ',j\n",
    "    #print 'min alpha', min_alpha\n",
    "    #print 'min error', min_error\n",
    "    regr = Lasso(alpha=min_alpha)\n",
    "    regr.fit(train_x, train_y)\n",
    "    gMAE += np.mean((regr.predict(test_x) - test_y) ** 2)\n",
    "\n",
    "gMAE = gMAE/10\n",
    "\n",
    "print \"5. c) L1 regularized mse: \", gMAE"
   ]
  },
  {
   "cell_type": "code",
   "execution_count": null,
   "metadata": {
    "collapsed": true
   },
   "outputs": [],
   "source": []
  }
 ],
 "metadata": {
  "kernelspec": {
   "display_name": "Python 2",
   "language": "python",
   "name": "python2"
  },
  "language_info": {
   "codemirror_mode": {
    "name": "ipython",
    "version": 2
   },
   "file_extension": ".py",
   "mimetype": "text/x-python",
   "name": "python",
   "nbconvert_exporter": "python",
   "pygments_lexer": "ipython2",
   "version": "2.7.9"
  }
 },
 "nbformat": 4,
 "nbformat_minor": 0
}
